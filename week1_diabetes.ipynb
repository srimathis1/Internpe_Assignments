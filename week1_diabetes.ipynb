{
  "nbformat": 4,
  "nbformat_minor": 0,
  "metadata": {
    "colab": {
      "provenance": []
    },
    "kernelspec": {
      "name": "python3",
      "display_name": "Python 3"
    },
    "language_info": {
      "name": "python"
    }
  },
  "cells": [
    {
      "cell_type": "code",
      "execution_count": 1,
      "metadata": {
        "colab": {
          "base_uri": "https://localhost:8080/"
        },
        "id": "14hEymA5X7Df",
        "outputId": "2bc81b04-a651-4b94-9455-c667ab03a68d"
      },
      "outputs": [
        {
          "output_type": "stream",
          "name": "stdout",
          "text": [
            "   Pregnancies  Glucose  BloodPressure  SkinThickness  Insulin   BMI  \\\n",
            "0            6      148             72             35        0  33.6   \n",
            "1            1       85             66             29        0  26.6   \n",
            "2            8      183             64              0        0  23.3   \n",
            "3            1       89             66             23       94  28.1   \n",
            "4            0      137             40             35      168  43.1   \n",
            "\n",
            "   DiabetesPedigreeFunction  Age  Outcome  \n",
            "0                     0.627   50        1  \n",
            "1                     0.351   31        0  \n",
            "2                     0.672   32        1  \n",
            "3                     0.167   21        0  \n",
            "4                     2.288   33        1  \n"
          ]
        }
      ],
      "source": [
        "import pandas as pd\n",
        "\n",
        "# Load the dataset (assuming it's saved as 'diabetes.csv' in your directory)\n",
        "df = pd.read_csv('/content/diabetes.csv')\n",
        "\n",
        "# Show first 5 rows\n",
        "print(df.head())\n"
      ]
    },
    {
      "cell_type": "code",
      "source": [
        "import seaborn as sns\n",
        "import matplotlib.pyplot as plt\n",
        "\n",
        "# Compute correlation matrix\n",
        "corr_matrix = df.corr()\n",
        "\n",
        "\n",
        "# Plot heatmap\n",
        "plt.figure(figsize=(10,8))\n",
        "sns.heatmap(corr_matrix, annot=True, cmap='coolwarm')\n",
        "plt.title(\"Correlation Matrix with Outcome\")\n",
        "plt.show()\n",
        "\n",
        "\n",
        "# Show top correlations with Outcome\n",
        "correlation_with_outcome = corr_matrix[\"Outcome\"].abs().sort_values(ascending=False)\n",
        "print(\"Top correlated features:\\n\", correlation_with_outcome)\n"
      ],
      "metadata": {
        "colab": {
          "base_uri": "https://localhost:8080/"
        },
        "id": "kwE8NSCtY3QO",
        "outputId": "419913a3-e881-4f78-99d9-7223f958a79d"
      },
      "execution_count": 3,
      "outputs": [
        {
          "output_type": "stream",
          "name": "stdout",
          "text": [
            "Top correlated features:\n",
            " Outcome                     1.000000\n",
            "Glucose                     0.466581\n",
            "BMI                         0.292695\n",
            "Age                         0.238356\n",
            "Pregnancies                 0.221898\n",
            "DiabetesPedigreeFunction    0.173844\n",
            "Insulin                     0.130548\n",
            "SkinThickness               0.074752\n",
            "BloodPressure               0.065068\n",
            "Name: Outcome, dtype: float64\n"
          ]
        }
      ]
    },
    {
      "cell_type": "code",
      "source": [
        "from sklearn.model_selection import train_test_split\n",
        "from sklearn.linear_model import LogisticRegression\n",
        "from sklearn.svm import SVC\n",
        "from sklearn.metrics import accuracy_score\n",
        "\n",
        "# Select top features manually from previous output\n",
        "features = ['Glucose', 'BMI', 'Age']\n",
        "X = df[features]\n",
        "y = df['Outcome']\n",
        "\n",
        "# Split data\n",
        "X_train, X_test, y_train, y_test = train_test_split(X, y, test_size=0.2, random_state=42)\n",
        "\n",
        "\n",
        "# SVM\n",
        "svm_model = SVC()\n",
        "svm_model.fit(X_train, y_train)\n",
        "y_pred_svm = svm_model.predict(X_test)\n",
        "\n",
        "\n",
        "print(\"SVM Accuracy:\", accuracy_score(y_test, y_pred_svm))\n"
      ],
      "metadata": {
        "colab": {
          "base_uri": "https://localhost:8080/"
        },
        "id": "_gjr-904Y5Ad",
        "outputId": "744dc6f5-0253-4d6d-d154-ca79e1de77f7"
      },
      "execution_count": 4,
      "outputs": [
        {
          "output_type": "stream",
          "name": "stdout",
          "text": [
            "Logistic Regression Accuracy: 0.7467532467532467\n",
            "SVM Accuracy: 0.7727272727272727\n"
          ]
        }
      ]
    },
    {
      "cell_type": "code",
      "source": [
        "# Logistic Regression\n",
        "log_model = LogisticRegression()\n",
        "log_model.fit(X_train, y_train)\n",
        "y_pred_log = log_model.predict(X_test)\n",
        "\n",
        "# Accuracy\n",
        "print(\"Logistic Regression Accuracy:\", accuracy_score(y_test, y_pred_log))\n"
      ],
      "metadata": {
        "colab": {
          "base_uri": "https://localhost:8080/"
        },
        "id": "b7oZpyaMZ_Ct",
        "outputId": "3ce8ded7-1ccc-466d-edc6-14981147abe9"
      },
      "execution_count": 8,
      "outputs": [
        {
          "output_type": "stream",
          "name": "stdout",
          "text": [
            "Logistic Regression Accuracy: 0.7467532467532467\n"
          ]
        }
      ]
    },
    {
      "cell_type": "code",
      "source": [
        "def predict_diabetes():\n",
        "    print(\"\\nEnter the following details:\")\n",
        "    glucose = float(input(\"Glucose level: \"))\n",
        "    bmi = float(input(\"BMI: \"))\n",
        "    age = float(input(\"Age: \"))\n",
        "\n",
        "    user_data = pd.DataFrame([[glucose, bmi, age]], columns=features)\n",
        "\n",
        "    pred_log = log_model.predict(user_data)\n",
        "    pred_svm = svm_model.predict(user_data)\n",
        "\n",
        "    print(\"\\n🔍 Prediction Results:\")\n",
        "    print(\"Logistic Regression:\", \"Diabetic\" if pred_log[0] == 1 else \"Not Diabetic\")\n",
        "    print(\"SVM:\", \"Diabetic\" if pred_svm[0] == 1 else \"Not Diabetic\")\n",
        "\n",
        "predict_diabetes()\n"
      ],
      "metadata": {
        "colab": {
          "base_uri": "https://localhost:8080/"
        },
        "id": "qoIddtsFZLKT",
        "outputId": "4a2d345b-2bb7-4fc3-c5b6-2becb1c25060"
      },
      "execution_count": 7,
      "outputs": [
        {
          "output_type": "stream",
          "name": "stdout",
          "text": [
            "\n",
            "Enter the following details:\n",
            "Glucose level: 70 \n",
            "BMI: 20.5\n",
            "Age: 30\n",
            "\n",
            "🔍 Prediction Results:\n",
            "Logistic Regression: Not Diabetic\n",
            "SVM: Not Diabetic\n"
          ]
        }
      ]
    },
    {
      "cell_type": "markdown",
      "source": [
        "DIABETICS PREDICTION MODEL:\n",
        "STEPS:\n",
        ">Importing the libraries.\n",
        ">read the dataset.\n",
        ">Identifying the most features correlated with Outcome.\n",
        ">Using that features to train the model using SVM,Logistic regression.\n",
        ">Finding the ACcuracy(0.74, 0.77) of each classification model.\n",
        ">Predicting the Outcome whether the person is diabetic or not by collecting the input-Age,BMI,Glucose level.\n"
      ],
      "metadata": {
        "id": "5KgQfcY1xBrS"
      }
    },
    {
      "cell_type": "code",
      "source": [],
      "metadata": {
        "id": "_J7OPEpgZe1S"
      },
      "execution_count": null,
      "outputs": []
    }
  ]
}